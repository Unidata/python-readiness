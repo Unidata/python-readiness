{
 "cells": [
  {
   "cell_type": "markdown",
   "id": "d4617460-f8d0-42a8-977a-f89366abca59",
   "metadata": {},
   "source": [
    "# Troubleshooting practice\n",
    "\n",
    "## Goal:\n",
    "Calculate **equivalent potential temperature** for a single parcel of air near the surface, and add a positive offset value to our resulting temperature.\n",
    "\n",
    "## Tasks:\n",
    "- Define input characteristics for our parcel\n",
    "- Calculate equivalent potential temperature\n",
    "- Add a set temperature offset to our result for future analysis"
   ]
  },
  {
   "cell_type": "code",
   "execution_count": 1,
   "id": "9be0cb68-e957-486a-8443-944542857f0d",
   "metadata": {},
   "outputs": [],
   "source": [
    "from metpy.calc import equivalent_potential_temperature\n",
    "from metpy.units import units"
   ]
  },
  {
   "cell_type": "code",
   "execution_count": 2,
   "id": "2f25ba36-34b6-4f2b-98b7-79e0b52a4293",
   "metadata": {},
   "outputs": [],
   "source": [
    "temperature = 78 * units(\"degF\")\n",
    "pressure = 94000 * units(\"hPa\")\n",
    "dewpoint = 62 * units(\"degF\")"
   ]
  },
  {
   "cell_type": "markdown",
   "id": "eb5255f1-7f9d-4e77-9b85-43330440e9ef",
   "metadata": {},
   "source": [
    "Given these quantities, let's use [metpy.calc.equivalent_potential_temperature](https://unidata.github.io/MetPy/latest/api/generated/metpy.calc.equivalent_potential_temperature.html) to calculate $\\theta_e$."
   ]
  },
  {
   "cell_type": "code",
   "execution_count": 3,
   "id": "cc52f11e-49f3-411c-b1dc-5090f52b091e",
   "metadata": {},
   "outputs": [
    {
     "data": {
      "text/html": [
       "81.65747858781849 kelvin"
      ],
      "text/latex": [
       "$81.65747858781849\\ \\mathrm{kelvin}$"
      ],
      "text/plain": [
       "81.65747858781849 <Unit('kelvin')>"
      ]
     },
     "execution_count": 3,
     "metadata": {},
     "output_type": "execute_result"
    }
   ],
   "source": [
    "theta_e = equivalent_potential_temperature(pressure, temperature, dewpoint)\n",
    "theta_e"
   ]
  },
  {
   "cell_type": "markdown",
   "id": "05b55f6f-94c4-4e29-8d05-c86b415b0fab",
   "metadata": {},
   "source": [
    "Does this answer make physical sense? If not, identify and fix any errors in the cell below."
   ]
  },
  {
   "cell_type": "code",
   "execution_count": 4,
   "id": "e4fb6817-1e6f-428b-9703-1fd678c8e8f8",
   "metadata": {},
   "outputs": [
    {
     "data": {
      "text/html": [
       "342.409924366136 kelvin"
      ],
      "text/latex": [
       "$342.409924366136\\ \\mathrm{kelvin}$"
      ],
      "text/plain": [
       "342.409924366136 <Unit('kelvin')>"
      ]
     },
     "execution_count": 4,
     "metadata": {},
     "output_type": "execute_result"
    }
   ],
   "source": [
    "# fix any issues here\n",
    "pressure = 94000 * units(\"Pa\")\n",
    "theta_e = equivalent_potential_temperature(pressure, temperature, dewpoint)\n",
    "theta_e"
   ]
  },
  {
   "cell_type": "markdown",
   "id": "c64b9ccc-0bb8-4992-8300-d4ef2115a0fa",
   "metadata": {},
   "source": [
    "Imagine that we are calculating `theta_e` to test how changes in equivalent potential temperature affect fog formation in a model sounding. Adding an offset value of 5 degrees F to `theta_e`."
   ]
  },
  {
   "cell_type": "code",
   "execution_count": 5,
   "id": "009f8b9e-f903-4b95-86d1-a08c11343781",
   "metadata": {},
   "outputs": [
    {
     "data": {
      "text/html": [
       "345.1877021439138 kelvin"
      ],
      "text/latex": [
       "$345.1877021439138\\ \\mathrm{kelvin}$"
      ],
      "text/plain": [
       "345.1877021439138 <Unit('kelvin')>"
      ]
     },
     "execution_count": 5,
     "metadata": {},
     "output_type": "execute_result"
    }
   ],
   "source": [
    "theta_e_offset = theta_e + (5 * units(\"delta_degF\"))\n",
    "theta_e_offset"
   ]
  },
  {
   "cell_type": "markdown",
   "id": "254bab0f-967c-4d69-b380-d0bfe36ca854",
   "metadata": {},
   "source": [
    "### Write the summary of changes you made below this cell "
   ]
  },
  {
   "cell_type": "markdown",
   "id": "f4ea0c86-ac50-4545-aeff-5163acdc0a16",
   "metadata": {},
   "source": [
    "1. Incorrect argument order\n",
    "\n",
    "`theta_e = equivalent_potential_temperature(pressure, temperature, dewpoint)`\n",
    "\n",
    "2. Missing dewpoint units\n",
    "\n",
    "`dewpoint = 62 * units(\"degF\")`\n",
    "\n",
    "3. Incorrect pressure units\n",
    "\n",
    "`pressure = 94000 * units(\"Pa\")`\n",
    "\n",
    "4. Incorrect delta units in temperature addition\n",
    "\n",
    "`theta_e_offset = theta_e + (5 * units(\"delta_degF\"))`"
   ]
  }
 ],
 "metadata": {
  "kernelspec": {
   "display_name": "Python [conda env:python-readiness]",
   "language": "python",
   "name": "conda-env-python-readiness-py"
  },
  "language_info": {
   "codemirror_mode": {
    "name": "ipython",
    "version": 3
   },
   "file_extension": ".py",
   "mimetype": "text/x-python",
   "name": "python",
   "nbconvert_exporter": "python",
   "pygments_lexer": "ipython3",
   "version": "3.11.5"
  }
 },
 "nbformat": 4,
 "nbformat_minor": 5
}
