{
 "cells": [
  {
   "cell_type": "markdown",
   "id": "4fcfbbbc-a4d3-498f-b3b0-57a35ae40c5b",
   "metadata": {},
   "source": [
    "# Troubleshooting practice\n",
    "\n",
    "## Goal:\n",
    "Preview the irma_gfs_example.nc file as an xarray HTML preview\n",
    "\n",
    "## Tasks:\n",
    "- Run all cells\n",
    "- Address all errors\n",
    "- Notate changes made in the cell at the bottom of this notebook"
   ]
  },
  {
   "cell_type": "code",
   "execution_count": null,
   "id": "6059c25a-db0a-442a-8e74-0656350b99f4",
   "metadata": {},
   "outputs": [],
   "source": [
    "from datetime import datetime\n",
    "import numpy\n",
    "import cartopy.crs as ccrs\n",
    "import cartopy.feature as cfeature\n",
    "import matplotlib.pyplot as plt\n",
    "from matplotlib.patheffects import withStroke\n",
    "import metpy.calc as mpcalc\n",
    "import metpy.plots as mpplots\n",
    "from metpy.io import parse_metar_file\n",
    "from metpy.units import pandas_dataframe_to_unit_arrays\n",
    "from siphon.catalog import TDSCatalog"
   ]
  },
  {
   "cell_type": "code",
   "execution_count": null,
   "id": "245d8b5a-6de9-47aa-ae56-1c13f4ba92f0",
   "metadata": {},
   "outputs": [],
   "source": [
    "data = open_dataset('irma_gfs_example.nc')\n",
    "data"
   ]
  },
  {
   "cell_type": "markdown",
   "id": "a0966733-5a39-4027-912b-a99c292969c1",
   "metadata": {},
   "source": [
    "### Write the summary of changes you made below this cell "
   ]
  },
  {
   "cell_type": "code",
   "execution_count": null,
   "id": "4316accf-6680-4b83-8580-4f61bdd1bd10",
   "metadata": {},
   "outputs": [],
   "source": []
  }
 ],
 "metadata": {
  "kernelspec": {
   "display_name": "Python [conda env:python-readiness]",
   "language": "python",
   "name": "conda-env-python-readiness-py"
  },
  "language_info": {
   "codemirror_mode": {
    "name": "ipython",
    "version": 3
   },
   "file_extension": ".py",
   "mimetype": "text/x-python",
   "name": "python",
   "nbconvert_exporter": "python",
   "pygments_lexer": "ipython3",
   "version": "3.11.5"
  }
 },
 "nbformat": 4,
 "nbformat_minor": 5
}
