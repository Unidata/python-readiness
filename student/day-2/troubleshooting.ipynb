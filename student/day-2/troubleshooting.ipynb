{
 "cells": [
  {
   "cell_type": "markdown",
   "id": "5c14433b-59e3-4f2a-a9da-12a0368e582d",
   "metadata": {},
   "source": [
    "<a name=\"top\"></a>\n",
    "\n",
    "<div style=\"float:right; width:98 px; height:98px;\">\n",
    "<center><img src=\"https://raw.githubusercontent.com/Unidata/MetPy/master/src/metpy/plots/_static/unidata_150x150.png\" alt=\"Unidata Logo\" style=\"height: 98px;\"><p><center>Unidata Program Center</center></p></center>\n",
    "</div>\n",
    "\n",
    "<h1>Python Readiness Learning Series</h1>\n",
    "<h3>Troubleshooting</h3>\n",
    "\n",
    "<h4>Learning Objectives</h4>\n",
    "<ol>\n",
    "    <li>Recall data access methods using Siphon tools</li>\n",
    "    <li>Read and interpret traceback messages</li>\n",
    "    <li>Apply a troubleshooting framework to Python errors</li>\n",
    "</ol>\n",
    "\n",
    "<h4>Schedule</h4>\n",
    "<table>\n",
    "<tbody>\n",
    "<tr style=\"height: 22px;\">\n",
    "<td style=\"height: 22px;\">&nbsp;10:00 - 10:15</td>\n",
    "<td style=\"height: 22px;\">Introduction</td>\n",
    "</tr>\n",
    "<tr style=\"height: 22px;\">\n",
    "<td style=\"height: 22px;\">&nbsp;10:15 - 12:00</td>\n",
    "<td style=\"height: 22px;\">Troubleshooting&nbsp;</td>\n",
    "</tr>\n",
    "<tr style=\"height: 22.6px;\">\n",
    "<td style=\"height: 22.6px;\">&nbsp;12:00 - 1:00</td>\n",
    "<td style=\"height: 22.6px;\">Lunch&nbsp;</td>\n",
    "</tr>\n",
    "<tr style=\"height: 22px;\">\n",
    "<td style=\"height: 22px;\">&nbsp;1:00 - 1:15</td>\n",
    "<td style=\"height: 22px;\">Recap: Remote Data Access for Exploratory Data Analysis&nbsp;</td>\n",
    "</tr>\n",
    "<tr style=\"height: 22px;\">\n",
    "<td style=\"height: 22px;\">&nbsp;1:15 - 2:30</td>\n",
    "<td style=\"height: 22px;\">Project Working Time&nbsp;</td>\n",
    "</tr>\n",
    "<tr style=\"height: 22px;\">\n",
    "<td style=\"height: 22px;\">&nbsp;2:30 - 3:00</td>\n",
    "<td style=\"height: 22px;\">Project Debrief and Closing&nbsp;</td>\n",
    "</tr>\n",
    "</tbody>\n",
    "</table>\n",
    "\n",
    "<div style=\"clear:both\"></div>\n",
    "</div>\n",
    "\n",
    "<hr style=\"height:2px;\">\n",
    "\n",
    "<a name=\"top\"></a>\n",
    "<div style=\"width:1000 px\">\n",
    "\n",
    "### Table of Contents\n",
    "1. <a href=\"#intro\">Introduction</a>\n",
    "1. <a href=\"#trouble\">Troubleshooting</a>\n",
    "1. <a href=\"#data\">Recap: Remote Data Access for Exploratory Data Analysis</a>\n",
    "1. <a href=\"#proj\">Project Working Time</a>\n",
    "1. <a href=\"#more\">More Information</a>\n",
    "    \n",
    "<div style=\"clear:both\"></div>\n",
    "</div>"
   ]
  },
  {
   "cell_type": "markdown",
   "id": "754d4fc5-406b-48ed-b48f-67691d522f65",
   "metadata": {},
   "source": [
    "## Introduction"
   ]
  },
  {
   "cell_type": "markdown",
   "id": "35a3b7de-06f4-4a90-8bb8-5d980215c978",
   "metadata": {},
   "source": [
    "Don't *forget* the forgetting curve! \n",
    "<img src=\"https://elearning.unidata.ucar.edu/metpy/PythonReadiness/media/FC3.PNG\">\n",
    "\n",
    "As we progress through today's materials, consider how we are building on the knowledge and skills we started to develop in the last session. Participating in the exercises and the project today are means of continuing to practice your skills and combat the forgetting curve. "
   ]
  },
  {
   "cell_type": "markdown",
   "id": "56a47e21-dd19-4983-b223-922f16ff86af",
   "metadata": {
    "tags": []
   },
   "source": [
    "<a href=\"#trouble\"></a>\n",
    "## Troubleshooting"
   ]
  },
  {
   "cell_type": "markdown",
   "id": "1b77ae6b-b586-48fb-92b2-10f2e175cc85",
   "metadata": {},
   "source": [
    "In many blissful training programs, you are provided with nice, clean data and thorough instructions that always produce the correct output. While this is a great foundation to first understand what to expect from a particular workflow or how things *should* operate, it is not representative of an average day for an Earth Systems scientist. We encounter errors of all kinds all the time. And the source of these errors can come from anywhere.  \n",
    "\n",
    "Consider the whole system that is working behind the scenes when you execute a line of code in a Jupyter Notebook. In a simple case, you, the programmer, send commands to Python, a program on your operating system, which sends commands to your computer hardware. In many cases, you're also sending messages to other computers across a network, which introduces even more parts to the system!\n",
    "\n",
    "<img src=\"https://elearning.unidata.ucar.edu/metpy/PythonReadiness/media/system.png\" width=\"800 px\">\n",
    "\n",
    "These aren't even all of the possible places that things could go wring! When you consider all of these components and their potential sources of error, it becomes clear that having a methodical approach to troubleshooting issues is going to be necessary. \n",
    "\n",
    "Let's try to create an error now and create a plan for troubleshooting. In this scenario, our goal is to do an EDA on Sea Surface Tempurature data in this local file, `SST.grib`. "
   ]
  },
  {
   "cell_type": "code",
   "execution_count": null,
   "id": "0f085330-7702-4c52-90e5-dc65d07bb349",
   "metadata": {},
   "outputs": [],
   "source": [
    "import xarray as xr"
   ]
  },
  {
   "cell_type": "code",
   "execution_count": null,
   "id": "e0d9a458-2fc3-4af7-99d5-22d3723b95ba",
   "metadata": {},
   "outputs": [],
   "source": [
    "in_file = '../../data/SST.grib'\n",
    "sst = xr.open_dataset(in_file)\n",
    "sst"
   ]
  },
  {
   "cell_type": "markdown",
   "id": "213247a0-ddd3-41cc-b669-44ef3831dcc1",
   "metadata": {},
   "source": [
    "This error gave us a *traceback*, or the red wall of text tracing back the chain of errors when we executed that cell. "
   ]
  },
  {
   "cell_type": "markdown",
   "id": "e4daec18-50d5-4532-a232-591b6596fec8",
   "metadata": {},
   "source": [
    "### Troubleshooting Framework\n",
    "\n",
    "<img src=\"https://elearning.unidata.ucar.edu/metpy/PythonReadiness/media/TroubleshootingFramework.png\" width=\"800 px\">\n",
    "\n",
    "After you've taken a breath and made the decision to to panic, we can start looking at this error with the information we have in the traceback. We read it from the bottom up, because the trace writes from the innermost components of the Python system to the outmost components (i.e. this notebook). If we're lucky, the developers of the code where we created the error will have captured this type of failure and print a nice message for us to resolve it. \n",
    "\n",
    "If we look at the bottom of the traceback, we see the following:\n",
    "\n",
    "<div class=\"alert alert-danger\">\n",
    "    <b>ValueError: </b>\n",
    "    found the following matches with the input file in xarray's IO backends: ['cfgrib']. But their dependencies may not be installed, see:\n",
    "    \n",
    "http://xarray.pydata.org/en/stable/user-guide/io.html \n",
    "    \n",
    "http://xarray.pydata.org/en/stable/getting-started-guide/installing.html\n",
    "</div>\n",
    "\n",
    "Before we dive into the links provided, let's take a moment to discuss the next steps of the troubleshooting framework. \n",
    "\n",
    "<b>Look internally</b>\n",
    "\n",
    "“Internal” and “external” here are not professional terms, but it’s how we are categorizing all the different items that could affect a Python process. The “internal” components are all things that we would associate with the operation of Python, the syntax, the logic, the inputs and outputs of functions. \n",
    "\n",
    "When looking internally, we made need to *break it up*, or narrow down which specifc line of code caused the error. For example, did our error orginate from assigning the variable `in_file`, or using the `open_dataset()` function, or printing the HTML preview? Commenting (#) these lines of code out can help break it up.\n",
    "\n",
    "\n",
    "<b>Look externally</b>\n",
    "\n",
    "The “external” components are the things we would associate with software in general. This includes any of the pieces under the <b>Python</b>, <b>Operating System</b>, or <b>Hardware</b> categories above. Most commonly, we see breakdowns where Python has an issues accessing something on our file system (a part of the OS), or hardware resources (like running out of memory or disk space). "
   ]
  },
  {
   "cell_type": "markdown",
   "id": "94accbac-8368-4665-a557-37076e9ec37f",
   "metadata": {},
   "source": [
    "<div class=\"alert alert-success\">\n",
    "    <b>Discussion</b>: \n",
    "\n",
    "Given the information that we have, where does our error likely lie: internally or externally? What clued you to your decision?\n",
    "</div>"
   ]
  },
  {
   "cell_type": "markdown",
   "id": "c33504ec-6df8-41b2-87b4-ce7319bc39a6",
   "metadata": {},
   "source": [
    "<div class=\"alert alert-success\">\n",
    "    <b>Exercise</b>: \n",
    "\n",
    "Given the information that we have, determine the cause of the error. \n",
    "</div>"
   ]
  },
  {
   "cell_type": "markdown",
   "id": "13d2894e-7c4f-4d43-bcce-95f2d7dfcd3b",
   "metadata": {},
   "source": [
    "<div class=\"alert alert-success\">\n",
    "    <b>Exercise</b>: \n",
    "\n",
    "In the <b>troubleshooting</b> folder, you will find three troubleshooting puzzles. In the allotted time, you may complete as many of these puzzles as you can. These puzzles range in difficulty: \n",
    "    \n",
    "<table>\n",
    "<tbody>\n",
    "<tr>\n",
    "<td>&nbsp;<b>Notebook Name</b></td>\n",
    "<td><b>Difficulty</b>&nbsp;</td>\n",
    "</tr>\n",
    "<tr>\n",
    "<td>&nbsp;\n",
    "<p>preview_data.ipynb</p>\n",
    "</td>\n",
    "<td>1/3&nbsp;</td>\n",
    "</tr>\n",
    "<tr>\n",
    "<td>&nbsp;\n",
    "<p>equivalent_potential_temperature.ipynb</p>\n",
    "</td>\n",
    "<td>2/3&nbsp;</td>\n",
    "</tr>\n",
    "<tr>\n",
    "<td>&nbsp;\n",
    "<p>plot_height.ipynb</p>\n",
    "</td>\n",
    "<td>&nbsp;3/3</td>\n",
    "</tr>\n",
    "</tbody>\n",
    "</table>\n",
    "\n",
    "Document any changes you made in the cell proved at the bottom of each notebook for reporting out.      \n",
    "    \n",
    "</div>"
   ]
  },
  {
   "cell_type": "markdown",
   "id": "2c2daa27-1ac3-4ec2-928b-c0c277a937eb",
   "metadata": {
    "tags": []
   },
   "source": [
    "<a href=\"#data\"></a>\n",
    "## Recap: Remote Data Access for Exploratory Data Analysis"
   ]
  },
  {
   "cell_type": "markdown",
   "id": "c7a578bb-9bb5-49b8-8bcf-8dc6d9e4af44",
   "metadata": {},
   "source": [
    "Recall from the <a href=\"https://elearning.unidata.ucar.edu/metpy/QuantitativeAnalysisILT/SiphonTDS/IntroSiphonTDS.mp4\" target=\"blank\">Remote Data Access Lesson</a> how we access data from a TDS in Python."
   ]
  },
  {
   "cell_type": "code",
   "execution_count": null,
   "id": "1a030615-f9af-4b63-947a-0ceceab49d4c",
   "metadata": {},
   "outputs": [],
   "source": [
    "# import the TDSCatalog class\n",
    "from siphon.catalog import TDSCatalog\n",
    "\n",
    "# choose a catalog URL from teh Unidata TDS (thredds.ucar.edu)\n",
    "url = \"https://thredds.ucar.edu/thredds/catalog/grib/NCEP/NBM/CONUS/latest.html\"\n",
    "\n",
    "# change the URL to the corresponding xml document\n",
    "xmlurl = url.replace(\".html\", \".xml\")\n",
    "\n",
    "# instatiate the catalog object with the provided info\n",
    "cat = TDSCatalog(xmlurl)\n",
    "\n",
    "# pull data into Python and preview\n",
    "ds = cat.datasets[0].remote_access(use_xarray=True)\n",
    "ds"
   ]
  },
  {
   "cell_type": "markdown",
   "id": "230354e8-47d3-46d0-b4c3-fc2e8672a4fa",
   "metadata": {},
   "source": [
    "<a href=\"#proj\"></a>\n",
    "## Project Working Time"
   ]
  },
  {
   "cell_type": "markdown",
   "id": "08a247cf-b4e5-46e4-99d4-4f3dab3d88c0",
   "metadata": {},
   "source": [
    "Last time, you were tasked with the following:\n",
    "\n",
    "- <b>Choose any research question you are interested in </b>\n",
    "    - This may or may not be related to your current work. Follow your curiosity!\n",
    "- <b>Find data that may support your research question</b>\n",
    "    - It’s okay if you're not certain the data will be appropriate!\n",
    "    - Choose at least one file/resource to examine in Python\n",
    "    - Any data source, you don’t need to know how to read it yet.  \n",
    "    - Any file type\n",
    "    \n",
    "With the remaining time, you will complete an exploratory data anlaysis for the research question and data you chose. \n",
    "\n",
    "**Tasks:**\n",
    "\n",
    "1. If you have a local file and need to upload it to the JupyterHub, you can drag and drop the file into the File Browser on the left.\n",
    "1. Write your research question in the space provided below.\n",
    "1. Complete your EDA.\n",
    "1. Justify why or why not the data are sufficient for your research question based on your EDA."
   ]
  },
  {
   "cell_type": "markdown",
   "id": "5e64f38b-8cf5-478f-b01d-1ab2b0a2c78c",
   "metadata": {},
   "source": [
    "#### Research Question\n",
    "\n"
   ]
  },
  {
   "cell_type": "markdown",
   "id": "612bdbd4-58b4-4c19-b0b3-0d97a92f9522",
   "metadata": {},
   "source": [
    "Type your research question here."
   ]
  },
  {
   "cell_type": "markdown",
   "id": "51fda679-218d-44c7-bf76-5f70f9fb635d",
   "metadata": {},
   "source": [
    "#### EDA"
   ]
  },
  {
   "cell_type": "code",
   "execution_count": null,
   "id": "8d69fc5c-8f19-4811-a9c2-bf89b675b180",
   "metadata": {},
   "outputs": [],
   "source": [
    "# use this space to complete your EDA"
   ]
  },
  {
   "cell_type": "code",
   "execution_count": null,
   "id": "bd4aa1af-f24c-47e4-91b3-d47b157d603c",
   "metadata": {},
   "outputs": [],
   "source": [
    "# use this space to complete your EDA"
   ]
  },
  {
   "cell_type": "markdown",
   "id": "70e7edfa-354f-45d0-a5f6-1a20ba733c56",
   "metadata": {},
   "source": [
    "#### Result"
   ]
  },
  {
   "cell_type": "markdown",
   "id": "8c592582-5e5a-4007-adb4-1be655c90be3",
   "metadata": {},
   "source": [
    "Type your justification of whether or not the data you chose is sufficient for your research question here. "
   ]
  },
  {
   "cell_type": "markdown",
   "id": "18cf2c1c-2003-412c-876f-0a709833c8a8",
   "metadata": {},
   "source": [
    "<a href=\"#more\"></a>\n",
    "## More Information\n",
    "\n",
    "### Further Practice\n",
    "\n",
    "MetPy Resources: https://www.unidata.ucar.edu/software/metpy\n",
    "\n",
    "Project Pythia: https://projectpythia.org\n",
    "\n",
    "Siphon Examples: https://unidata.github.io/siphon/latest/examples/index.html\n",
    "\n",
    "THREDDS Data Server User Guide: https://docs.unidata.ucar.edu/tds/current/userguide/index.html\n",
    "\n",
    "### Save Your Work\n",
    "<p>To save any of the files you modified or edited in this session:\n",
    "    <ol>\n",
    "        <li>Right click on any item in the left-side navigation pane</li>\n",
    "        <li>Select <b>Download</b></li>\n",
    "    </ol>\n",
    "</p>\n",
    "  \n",
    "### Connect with Unidata\n",
    "https://twitter.com/unidata\n",
    "\n",
    "https://twitter.com/metpy\n",
    "\n",
    "https://youtube.com/unidatanews\n",
    "\n",
    "https://www.linkedin.com/company/unidatanews"
   ]
  }
 ],
 "metadata": {
  "kernelspec": {
   "display_name": "Python [conda env:python-readiness]",
   "language": "python",
   "name": "conda-env-python-readiness-py"
  },
  "language_info": {
   "codemirror_mode": {
    "name": "ipython",
    "version": 3
   },
   "file_extension": ".py",
   "mimetype": "text/x-python",
   "name": "python",
   "nbconvert_exporter": "python",
   "pygments_lexer": "ipython3",
   "version": "3.11.5"
  }
 },
 "nbformat": 4,
 "nbformat_minor": 5
}
