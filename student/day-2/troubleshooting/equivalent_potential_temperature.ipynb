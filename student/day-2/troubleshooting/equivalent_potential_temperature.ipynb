{
 "cells": [
  {
   "cell_type": "markdown",
   "id": "d4617460-f8d0-42a8-977a-f89366abca59",
   "metadata": {},
   "source": [
    "# Troubleshooting practice\n",
    "\n",
    "## Goal:\n",
    "Calculate **equivalent potential temperature** for a single parcel of air near the surface, and add a positive offset value to our resulting temperature.\n",
    "\n",
    "## Tasks:\n",
    "- Define input characteristics for our parcel\n",
    "- Calculate equivalent potential temperature\n",
    "- Add a set temperature offset to our result for future analysis"
   ]
  },
  {
   "cell_type": "code",
   "execution_count": null,
   "id": "9be0cb68-e957-486a-8443-944542857f0d",
   "metadata": {},
   "outputs": [],
   "source": [
    "from metpy.calc import equivalent_potential_temperature\n",
    "from metpy.units import units"
   ]
  },
  {
   "cell_type": "code",
   "execution_count": null,
   "id": "2f25ba36-34b6-4f2b-98b7-79e0b52a4293",
   "metadata": {},
   "outputs": [],
   "source": [
    "temperature = 78 * units(\"degF\")\n",
    "pressure = 94000 * units(\"hPa\")\n",
    "dewpoint = 62"
   ]
  },
  {
   "cell_type": "markdown",
   "id": "eb5255f1-7f9d-4e77-9b85-43330440e9ef",
   "metadata": {},
   "source": [
    "Given these quantities, let's use [metpy.calc.equivalent_potential_temperature](https://unidata.github.io/MetPy/latest/api/generated/metpy.calc.equivalent_potential_temperature.html) to calculate $\\theta_e$."
   ]
  },
  {
   "cell_type": "code",
   "execution_count": null,
   "id": "cc52f11e-49f3-411c-b1dc-5090f52b091e",
   "metadata": {},
   "outputs": [],
   "source": [
    "theta_e = equivalent_potential_temperature(temperature, pressure, dewpoint)\n",
    "theta_e"
   ]
  },
  {
   "cell_type": "markdown",
   "id": "05b55f6f-94c4-4e29-8d05-c86b415b0fab",
   "metadata": {},
   "source": [
    "Does this answer make physical sense? If not, identify and fix any errors in the cell below. "
   ]
  },
  {
   "cell_type": "code",
   "execution_count": null,
   "id": "122aeb61-bdcc-4357-bdd6-2faf4707e1e0",
   "metadata": {},
   "outputs": [],
   "source": [
    "# fix any issues here\n"
   ]
  },
  {
   "cell_type": "markdown",
   "id": "272d9be6-0330-4b1e-9882-3e7c8dc4cb9e",
   "metadata": {},
   "source": [
    "Imagine that we are calculating `theta_e` to test how changes in equivalent potential temperature affect fog formation in a model sounding. Try adding an offset value of 5 degrees F to `theta_e`."
   ]
  },
  {
   "cell_type": "code",
   "execution_count": null,
   "id": "009f8b9e-f903-4b95-86d1-a08c11343781",
   "metadata": {},
   "outputs": [],
   "source": [
    "theta_e_offset = theta_e + (5 * units(\"degF\"))\n",
    "theta_e_offset"
   ]
  },
  {
   "cell_type": "markdown",
   "id": "254bab0f-967c-4d69-b380-d0bfe36ca854",
   "metadata": {},
   "source": [
    "### Write the summary of changes you made below this cell "
   ]
  },
  {
   "cell_type": "code",
   "execution_count": null,
   "id": "c1e9e98b-ba91-48a9-b3b1-5afab57ca811",
   "metadata": {},
   "outputs": [],
   "source": []
  }
 ],
 "metadata": {
  "kernelspec": {
   "display_name": "Python [conda env:python-readiness]",
   "language": "python",
   "name": "conda-env-python-readiness-py"
  },
  "language_info": {
   "codemirror_mode": {
    "name": "ipython",
    "version": 3
   },
   "file_extension": ".py",
   "mimetype": "text/x-python",
   "name": "python",
   "nbconvert_exporter": "python",
   "pygments_lexer": "ipython3",
   "version": "3.11.5"
  }
 },
 "nbformat": 4,
 "nbformat_minor": 5
}
