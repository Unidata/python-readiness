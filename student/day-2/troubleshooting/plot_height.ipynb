{
 "cells": [
  {
   "cell_type": "markdown",
   "id": "d4617460-f8d0-42a8-977a-f89366abca59",
   "metadata": {},
   "source": [
    "# Troubleshooting practice\n",
    "\n",
    "## Goal:\n",
    "Plot the latest surface geopotential heights as filled contours\n",
    "\n",
    "Data source: National Centers for Environmental Prediction (NCEP) Real-Time Mesoscle Analysis (RTMA); Unidata THREDDS Data Server (TDS)\n",
    "\n",
    "## Tasks:\n",
    "- Run all cells\n",
    "- Address all errors\n",
    "- Notate changes made in the cell at the bottom of this notebook"
   ]
  },
  {
   "cell_type": "code",
   "execution_count": null,
   "id": "34904a74-d07e-4a03-9d2f-8cb675d81b94",
   "metadata": {},
   "outputs": [],
   "source": [
    "# import required packages\n",
    "from siphon.catalog import TDSCatalog\n",
    "import matplotlib.pyplot as plt"
   ]
  },
  {
   "cell_type": "code",
   "execution_count": null,
   "id": "cda49d11-ed95-4e05-8738-a5d540596d2b",
   "metadata": {},
   "outputs": [],
   "source": [
    "# Read the full collection dataset (reference and forecast times) from the THREDDS Data Server\n",
    "url = 'https://thredds.ucar.edu/thredds/catalog/grib/NCEP/RTMA/CONUS_2p5km/catalog.html'\n",
    "xmlurl = url.replace(\".html\", \".xml\")\n",
    "rtma_cat = TDSCatalog(xmlurl)\n",
    "rtma_data = rtma_cat.datasets['Full Collection Dataset'].remote_access(use_xarray=True)\n",
    "rtma_data"
   ]
  },
  {
   "cell_type": "code",
   "execution_count": null,
   "id": "3663f233-a4d5-4c99-90f5-1970f7074159",
   "metadata": {},
   "outputs": [],
   "source": [
    "# Get most recent surface geopotential height\n",
    "hgt = rtma_data['Geopotential_height_Analysis_surface'].isel(time=-1)\n",
    "hgt"
   ]
  },
  {
   "cell_type": "code",
   "execution_count": null,
   "id": "9be0cb68-e957-486a-8443-944542857f0d",
   "metadata": {},
   "outputs": [],
   "source": [
    "# Plot surface geopotential heights as filled contours\n",
    "fig, ax = plt.subplots()\n",
    "ax.contourf(hgt)"
   ]
  },
  {
   "cell_type": "markdown",
   "id": "254bab0f-967c-4d69-b380-d0bfe36ca854",
   "metadata": {},
   "source": [
    "### Write the summary of changes you made below this cell "
   ]
  },
  {
   "cell_type": "code",
   "execution_count": null,
   "id": "c1e9e98b-ba91-48a9-b3b1-5afab57ca811",
   "metadata": {},
   "outputs": [],
   "source": []
  }
 ],
 "metadata": {
  "kernelspec": {
   "display_name": "Python [conda env:python-readiness]",
   "language": "python",
   "name": "conda-env-python-readiness-py"
  },
  "language_info": {
   "codemirror_mode": {
    "name": "ipython",
    "version": 3
   },
   "file_extension": ".py",
   "mimetype": "text/x-python",
   "name": "python",
   "nbconvert_exporter": "python",
   "pygments_lexer": "ipython3",
   "version": "3.11.5"
  }
 },
 "nbformat": 4,
 "nbformat_minor": 5
}
