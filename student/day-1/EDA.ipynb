{
 "cells": [
  {
   "cell_type": "markdown",
   "id": "9942edde-ba07-4f71-9f8d-b02207435ce3",
   "metadata": {},
   "source": [
    "<a name=\"top\"></a>\n",
    "\n",
    "<div style=\"float:right; width:98 px; height:98px;\">\n",
    "<center><img src=\"https://raw.githubusercontent.com/Unidata/MetPy/master/src/metpy/plots/_static/unidata_150x150.png\" alt=\"Unidata Logo\" style=\"height: 98px;\"><p><center>Unidata Program Center</center></p></center>\n",
    "</div>\n",
    "\n",
    "<h1>Python Readiness Learning Series</h1>\n",
    "<h3>Exploratory Data Analysis</h3>\n",
    "\n",
    "<h4>Learning Objectives</h4>\n",
    "<ol>\n",
    "    <li>Create and use a framework for exploratory analysis of Earth Systems Science datasets</li>\n",
    "    <li>Locate critical exploratory information about tabular data using Pandas tools</li>\n",
    "    <li>Locate critical exploratory information about netCDF data using Xarray tools</li>\n",
    "</ol>\n",
    "\n",
    "<h4>Schedule</h4>\n",
    "<table>\n",
    "<tbody>\n",
    "<tr style=\"height: 22px;\">\n",
    "<td style=\"height: 22px;\">&nbsp;9:30 - 9:50</td>\n",
    "<td style=\"height: 22px;\">Introduction and Metalearning&nbsp;</td>\n",
    "</tr>\n",
    "<tr style=\"height: 22px;\">\n",
    "<td style=\"height: 22px;\">&nbsp;9:50 - 10:20</td>\n",
    "<td style=\"height: 22px;\">Exploratory Data Analysis&nbsp;</td>\n",
    "</tr>\n",
    "<tr style=\"height: 22px;\">\n",
    "<td style=\"height: 22px;\">&nbsp;10:20 - 12:00</td>\n",
    "<td style=\"height: 22px;\">EDA I: Tabular Data&nbsp;</td>\n",
    "</tr>\n",
    "<tr style=\"height: 22.6px;\">\n",
    "<td style=\"height: 22.6px;\">&nbsp;12:00 - 1:00</td>\n",
    "<td style=\"height: 22.6px;\">Lunch&nbsp;</td>\n",
    "</tr>\n",
    "<tr style=\"height: 22px;\">\n",
    "<td style=\"height: 22px;\">&nbsp;1:00 - 2:45</td>\n",
    "<td style=\"height: 22px;\">EDA II: Multidimensional Data&nbsp;</td>\n",
    "</tr>\n",
    "<tr style=\"height: 22px;\">\n",
    "<td style=\"height: 22px;\">&nbsp;2:45 - 3:00</td>\n",
    "<td style=\"height: 22px;\">Introduction to Project and Closing&nbsp;</td>\n",
    "</tr>\n",
    "</tbody>\n",
    "</table>\n",
    "\n",
    "<div style=\"clear:both\"></div>\n",
    "</div>\n",
    "\n",
    "<hr style=\"height:2px;\">\n",
    "\n",
    "<a name=\"top\"></a>\n",
    "<div style=\"width:1000 px\">\n",
    "\n",
    "### Table of Contents\n",
    "1. <a href=\"#meta\">Metalearning</a>\n",
    "1. <a href=\"#eda\">Exploratory Data Analysis</a>\n",
    "1. <a href=\"#table\">EDA I: Tabular Data</a>\n",
    "1. <a href=\"#multi\">EDA II: Multidimensional Data</a>\n",
    "1. <a href=\"#proj\">About the Day 2 Project</a>\n",
    "1. <a href=\"#more\">More Information</a>\n",
    "    \n",
    "<div style=\"clear:both\"></div>\n",
    "</div>"
   ]
  },
  {
   "cell_type": "markdown",
   "id": "98c85084-1232-40a6-ad92-56198879fb3f",
   "metadata": {},
   "source": [
    "<a name=\"#meta\"></a>\n",
    "## Metalearning"
   ]
  },
  {
   "cell_type": "markdown",
   "id": "3505b5fa-57b4-4fae-b8df-42e2e18985ea",
   "metadata": {},
   "source": [
    "Learning a new subject, especially something as complex as learning a new language, is not a linear process. It would be unreasonable to expect that you will leave this session today feeling like you have learned everything you need to be a successful scientific Python user. Instead, consider these next two sessions as a means of making those initial connections in your brain that you will continue to build on in your studies. It takes time and sufficient practice to transfer new information from short-term to long-term memory and build the mental models we need to complete our future work.\n",
    "\n",
    "All the while, we battle the **forgetting curve**. \n",
    "\n",
    "*Execute the cell below to view the slide widget*"
   ]
  },
  {
   "cell_type": "code",
   "execution_count": null,
   "id": "5da1580b-d50c-40d1-89c3-b8fb9448fdb8",
   "metadata": {
    "jupyter": {
     "source_hidden": true
    },
    "tags": []
   },
   "outputs": [],
   "source": [
    "# Run this cell to view the widget\n",
    "import ipywidgets as wg\n",
    "from IPython.display import Image\n",
    "\n",
    "w=800\n",
    "def f(Slide):\n",
    "    if Slide == 1:\n",
    "        return Image(url='https://elearning.unidata.ucar.edu/metpy/PythonReadiness/media/FC1.PNG', width=w)\n",
    "    elif Slide == 2:\n",
    "        return Image(url='https://elearning.unidata.ucar.edu/metpy/PythonReadiness/media/FC2.PNG', width=w)\n",
    "    elif Slide == 3:\n",
    "        return Image(url='https://elearning.unidata.ucar.edu/metpy/PythonReadiness/media/FC3.PNG', width=w)\n",
    "    else:\n",
    "        return Image(url='https://elearning.unidata.ucar.edu/metpy/PythonReadiness/media/FC4.PNG', width=w)\n",
    "\n",
    "wg.interact(f, Slide=wg.IntSlider(min=1,max=4,step=1));"
   ]
  },
  {
   "cell_type": "markdown",
   "id": "74104fcf-0287-4bb5-b5a8-4d2d375ce274",
   "metadata": {},
   "source": [
    "With this knowledge about your own learning, consider how the information you learn in this series continues to build bridges between your short and long-term memory."
   ]
  },
  {
   "cell_type": "markdown",
   "id": "cb2965b6-b4ec-4cdb-bc8c-0c58e042f654",
   "metadata": {},
   "source": [
    "<a name=\"eda\"></a>\n",
    "## Exploratory Data Analysis"
   ]
  },
  {
   "cell_type": "markdown",
   "id": "09389787-9be3-49bd-a4e1-fa563f5176eb",
   "metadata": {},
   "source": [
    "The topic for the day is *Exploratory Data Analysis*. \n",
    "\n",
    "<div class=\"alert alert-success\">\n",
    "    <b>Discussion</b>: \n",
    "\n",
    "What does this process sound like we’re going to do?<br>\n",
    "What do you think could be the goals of this type of analysis? What do you think EDA is not?\n",
    "</div>\n",
    "\n",
    "While there are many ways to achieve this, we propose this general framework towards understanding data. First, and arguably the most difficult hurdle is finding data and reading it into Python. Then we want to know about the metadata, the data that describes what the values represent. Then we want to understand what single variables are available, units, etc. And finally we want to know how variables relate to each other. This is where we bridge the gap between EDA and explanatory analysis. \n",
    "\n",
    "<img src=\"https://elearning.unidata.ucar.edu/metpy/PythonReadiness/media/EDAFramework.png\">"
   ]
  },
  {
   "cell_type": "markdown",
   "id": "f8d01d7e-351c-4959-aa20-37a7d88e1238",
   "metadata": {},
   "source": [
    "<div class=\"alert alert-success\">\n",
    "    <b>Discussion</b>: \n",
    "\n",
    "What do we look for in an exploratory data analysis?\n",
    "    \n",
    "When we acquire a new dataset, what kind of information would we need to say we can “fully describe” the data? Consider any and all types of earth systems data.\n",
    "    \n",
    "Document your responses below.\n",
    "</div>"
   ]
  },
  {
   "cell_type": "raw",
   "id": "dd726047-2603-4ce9-a8fb-4f864958c1a4",
   "metadata": {},
   "source": [
    "Your responses here: \n"
   ]
  },
  {
   "cell_type": "markdown",
   "id": "4a622507-b75f-4eb4-8a49-8b21be9b1757",
   "metadata": {},
   "source": [
    "<a name=\"table\"></a>\n",
    "## EDA I: Tabular Data"
   ]
  },
  {
   "cell_type": "markdown",
   "id": "da5118c8-13a1-45d3-96ab-9e68015b524d",
   "metadata": {},
   "source": [
    "<p>In this exercise we will explore local time series data in csv format. These data are \"local\" because they are stored on the same machine where we are running this notebook from.</p>\n",
    "\n",
    "<img src=\"https://elearning.unidata.ucar.edu/metpy/PythonReadiness/media/localdata.png\">\n",
    "\n",
    "<p>We start by importing the Python package required to read the csv, <code>pandas</code>, with the abbreviated name <code>pd</code>. Then we use the <code>read_csv()</code> function from the <code>pd</code> package to read the file, and load it into our Python project as a pandas <a href=\"https://pandas.pydata.org/docs/reference/api/pandas.DataFrame.html\" target=\"blank\">DataFrame</a>.</p>"
   ]
  },
  {
   "cell_type": "code",
   "execution_count": null,
   "id": "6a274b6c-1671-41e1-b8a1-f20439d7f4ab",
   "metadata": {},
   "outputs": [],
   "source": [
    "# import required packages\n",
    "import pandas as pd"
   ]
  },
  {
   "cell_type": "markdown",
   "id": "e39be199-5acd-488f-8197-bfd60a46dc15",
   "metadata": {},
   "source": [
    "### Time Series #1\n",
    "\n",
    "We will explore two different kinds of time series data. This is the first."
   ]
  },
  {
   "cell_type": "code",
   "execution_count": null,
   "id": "01fe6a92-720c-4c07-8e1d-74d5008fb679",
   "metadata": {},
   "outputs": [],
   "source": [
    "# load csv from local folder\n",
    "df = pd.read_csv('../../data/timeseries.csv')\n",
    "\n",
    "# preview the DataFrame, df\n",
    "df"
   ]
  },
  {
   "cell_type": "markdown",
   "id": "8b6bf251-6133-4dd4-902e-e271eef4a2b6",
   "metadata": {},
   "source": [
    "<div class=\"alert alert-success\">\n",
    "    <b>Discussion</b>: \n",
    "    \n",
    "What information can we find in this preview alone? What information from our earlier EDA brainstorm are we missing?\n",
    "</div>"
   ]
  },
  {
   "cell_type": "markdown",
   "id": "edd620c3-452c-4647-89a3-b579d1e1ff63",
   "metadata": {},
   "source": [
    "#### Other helpful pandas functions\n",
    "\n",
    "Recall the other information we would want to know for a successful EDA. These functions below help us to more clearly see that information in a pandas DataFrame."
   ]
  },
  {
   "cell_type": "code",
   "execution_count": null,
   "id": "7774a50c-bb1e-44d2-bf6b-b8dbc013bb71",
   "metadata": {},
   "outputs": [],
   "source": [
    "# list all column headers\n",
    "df.columns"
   ]
  },
  {
   "cell_type": "code",
   "execution_count": null,
   "id": "40d811b3-b340-404c-bb54-e5f969eacd71",
   "metadata": {},
   "outputs": [],
   "source": [
    "# describe the DataFrame to see the range of values\n",
    "df.describe()"
   ]
  },
  {
   "cell_type": "markdown",
   "id": "ecd16c41-57fd-4c5e-80b6-7e15b8a54cdf",
   "metadata": {},
   "source": [
    "<div class=\"alert alert-success\">\n",
    "    <b>Discussion</b>: \n",
    "    \n",
    "Referring to the syntax we used to describe the DataFrame compared to the syntax we used to print the column names, why do we use () after <code>df.describe()</code> but not after <code>df.columns</code>?\n",
    "</div>"
   ]
  },
  {
   "cell_type": "markdown",
   "id": "b362d52b-91a6-4e1e-aad8-ab9ac07c5488",
   "metadata": {},
   "source": [
    "Not every dataset will use \"Null\" to denote missing data, some will choose -999… or some other large negative as a placeholder. Because our minimum values in the dataframe description seem reasonable, let’s check for Null values. "
   ]
  },
  {
   "cell_type": "code",
   "execution_count": null,
   "id": "8252fae0-5789-44d9-8b20-6e3e10e281f5",
   "metadata": {},
   "outputs": [],
   "source": [
    "# Use pandas isnull() to find missing values\n",
    "df.isnull()"
   ]
  },
  {
   "cell_type": "markdown",
   "id": "b1b9afe0-7f88-4dbf-bbaf-0b4f7e415d26",
   "metadata": {},
   "source": [
    "Our result isn't particularly useful since we have so many entries that are clipped from the preview... Let's try to add them together."
   ]
  },
  {
   "cell_type": "code",
   "execution_count": null,
   "id": "ed86cccf-0b16-496c-9f3d-6bd50ec9e5d2",
   "metadata": {},
   "outputs": [],
   "source": [
    "# sum all null values by column\n",
    "df.isnull().sum()"
   ]
  },
  {
   "cell_type": "markdown",
   "id": "1679dbae-f3ee-42d7-9754-32476180ee91",
   "metadata": {},
   "source": [
    "<div class=\"alert alert-success\">\n",
    "    <b>Discussion</b>: \n",
    "    \n",
    "What can you ascertain from the results, and what do they mean, physically? What might explain the missing data? Try to be as descriptive as possible.\n",
    "</div>"
   ]
  },
  {
   "cell_type": "markdown",
   "id": "7ce6ece4-f8cb-414d-b2ab-8eb286a6f3b6",
   "metadata": {},
   "source": [
    "We can use pandas selection tools to determine which times from the dataset are missing values."
   ]
  },
  {
   "cell_type": "code",
   "execution_count": null,
   "id": "2f475f4a-743d-444d-8698-e25c3de538e0",
   "metadata": {},
   "outputs": [],
   "source": [
    "# determine what times are missing WS\n",
    "# Note the syntax for selecting one column:\n",
    "# DataFrame[‘column name’]\n",
    "\n",
    "\n",
    "# create a “mask” of the entries where WS = null\n",
    "nullWS = df['WS'].isnull()\n",
    "\n",
    "\n",
    "# pull times where nullWS is True\n",
    "df['DATE'][nullWS]"
   ]
  },
  {
   "cell_type": "markdown",
   "id": "d0e4a3d6-52ff-47c2-b50a-041d0bcfe6bd",
   "metadata": {},
   "source": [
    "#### EDA Plotting\n",
    "\n",
    "Let’s now move into phase four of the EDA framework and examine how variables relate to each other. We will do this by plotting some of the variables. \n",
    "\n",
    "\n",
    "But first, consider what we know to be true about the physical world. We have 24 hours worth of data, what can we predict the shape of temperature to look like over a 24 hour time period? What about relative humidity? What are possible red flags that would determine if we have a bad dataset?"
   ]
  },
  {
   "cell_type": "code",
   "execution_count": null,
   "id": "488d890e-277c-4781-a9dd-fede41979bab",
   "metadata": {},
   "outputs": [],
   "source": [
    "# plot the shape of relative humidity\n",
    "df['RH'].plot()"
   ]
  },
  {
   "cell_type": "code",
   "execution_count": null,
   "id": "e25d0a8a-900f-4256-93d6-3b451cc36315",
   "metadata": {},
   "outputs": [],
   "source": [
    "# plot the shape of temperature\n",
    "df['T'].plot()"
   ]
  },
  {
   "cell_type": "markdown",
   "id": "19d9a1c8-65df-4b29-89f2-41054350dbd0",
   "metadata": {},
   "source": [
    "Do these plots make physical sense? Why or why not?"
   ]
  },
  {
   "cell_type": "markdown",
   "id": "d2eb3f9f-89f9-4e7d-9993-a10ddcdef638",
   "metadata": {},
   "source": [
    "### Time Series #2\n",
    "\n",
    "Let's try out an EDA on a different time series next. "
   ]
  },
  {
   "cell_type": "code",
   "execution_count": null,
   "id": "340637ac-444e-46e3-9d1c-f69e775c73b7",
   "metadata": {},
   "outputs": [],
   "source": [
    "# read data with Pandas\n",
    "df2 = pd.read_csv('../../data/SFC_obs.csv')\n",
    "\n",
    "\n",
    "# display Pandas DataFrame preview\n",
    "df2"
   ]
  },
  {
   "cell_type": "markdown",
   "id": "2d3e5f9c-74b1-496e-92b7-c2848fae036d",
   "metadata": {},
   "source": [
    "<div class=\"alert alert-success\">\n",
    "    <b>Discussion</b>: \n",
    "    \n",
    "Immediate we see differences between the previous dataset and this one. What are they?\n",
    "</div>"
   ]
  },
  {
   "cell_type": "code",
   "execution_count": null,
   "id": "462cd7dc-b2dd-465b-9a46-043b8c9044d7",
   "metadata": {},
   "outputs": [],
   "source": [
    "# describe the DataFrame to see the range of values\n",
    "df2.describe()"
   ]
  },
  {
   "cell_type": "markdown",
   "id": "e18464b6-3316-419f-940a-91e5c4e9c3e2",
   "metadata": {},
   "source": [
    "Notice that we don’t get a summary of the categorical variables, only the numeric variables. \n",
    "\n",
    "With this trick below, we describe all columns by casting all values as an object type, then use describe"
   ]
  },
  {
   "cell_type": "code",
   "execution_count": null,
   "id": "07d2fb27-e621-4fa1-83b7-95be427d6657",
   "metadata": {},
   "outputs": [],
   "source": [
    "# optionally, transpose the table for clearer reading by appending .transpose()\n",
    "df2.astype('object').describe().transpose()"
   ]
  },
  {
   "cell_type": "markdown",
   "id": "b88cbb29-f9dd-4d70-8b22-6b13f4118a11",
   "metadata": {},
   "source": [
    "Let's now use our pandas selection tools to more closely examine a single station.\n",
    "\n",
    "Note the syntax for selecting one column:\n",
    "\n",
    "<code>DataFrame['column name']</code>"
   ]
  },
  {
   "cell_type": "code",
   "execution_count": null,
   "id": "242df640-5035-4fea-8487-88db0c6b31a1",
   "metadata": {},
   "outputs": [],
   "source": [
    "# create a stations variable and preview it\n",
    "stations = df2['station']\n",
    "stations"
   ]
  },
  {
   "cell_type": "code",
   "execution_count": null,
   "id": "01fb3f65-5e88-4578-8739-b2846a65d23e",
   "metadata": {},
   "outputs": [],
   "source": [
    "# create a true/false \"mask\" where the value in the series is the desired string\n",
    "fnl_mask = stations.values == 'FNL'\n",
    "fnl_mask"
   ]
  },
  {
   "cell_type": "code",
   "execution_count": null,
   "id": "ed45f526-680f-42a8-9f5d-4d9f5621f11d",
   "metadata": {},
   "outputs": [],
   "source": [
    "# sum all True values to determine how many entries we have\n",
    "sum(fnl_mask)"
   ]
  },
  {
   "cell_type": "code",
   "execution_count": null,
   "id": "1e33fec2-a300-49fa-a8df-bd3067d2e9b9",
   "metadata": {},
   "outputs": [],
   "source": [
    "# trim df to just the entries where the mask is true\n",
    "df_fnl = df2[fnl_mask]\n",
    "df_fnl"
   ]
  },
  {
   "cell_type": "markdown",
   "id": "3f44e330-6b8c-4607-9843-2266b75f3c41",
   "metadata": {},
   "source": [
    "<div class=\"alert alert-success\">\n",
    "    <b>Exercise</b>: \n",
    "\n",
    "Recall that the whole reason we do EDA is to understand our data to ultimately determine if it is sufficient for a scientific or research question. Let's put together all of these tools now in a new scenario. \n",
    "    \n",
    "<b>Goal:</b>\n",
    "    \n",
    "Working in pairs, determine if this dataset is appropriate for your research question.\n",
    "    \n",
    "<b>Scenario:</b>\n",
    "\n",
    "You are starting out on a project related to how tropospheric ozone concentrations in the US have changed in the last 10 years. \n",
    "You’ve found a paper that provides a benchmark dataset that could be helpful for you in your statistical comparisons. To determine if it is appropriate for your project, you must first examine the dataset using the EDA approach we just introduced.     \n",
    "    \n",
    "<b>Tasks:</b>\n",
    "    \n",
    "First, load the dataset (via the read_csv function)\n",
    "http://hdl.handle.net/11304/89dd440e-4e10-496e-b476-1ccf0ebeb4f3\n",
    "\n",
    "The paper the dataset was from to help find some critical metadata:\n",
    "https://essd.copernicus.org/articles/13/3013/2021 \n",
    "\n",
    "Then, find the following information:\n",
    "1. Spatial extent of the data, the number of records, and summary of stations\n",
    "1. Temporal extent of the data\n",
    "1. Summary of all variables \n",
    "1. Examine the ranges of values for a few relevant variables to determine if any data seem like outliers or incorrect\n",
    "1. Summarize information about any missing data\n",
    "1. Then, make a decision on whether you want to use this dataset for the research project in this scenario.\n",
    "    \n",
    "</div>"
   ]
  },
  {
   "cell_type": "markdown",
   "id": "f6f94fb4-5d1d-430c-a3ca-ba4c39d70f15",
   "metadata": {},
   "source": [
    "<a name=\"#multi\"></a>\n",
    "## EDA II: Multidimensional Data"
   ]
  },
  {
   "cell_type": "markdown",
   "id": "a77ce174-09cd-4a46-b8a4-4bfa98dd13a2",
   "metadata": {},
   "source": [
    "In the previous section, we looked at three different examples of tabular data. These all represented point-based data, but that's not the only kind of data we work with in the Earth Systems Sciences. \n",
    "\n",
    "In fact, a large percentage of the data used in the Earth Systems Sciences is array-based. "
   ]
  },
  {
   "cell_type": "markdown",
   "id": "3e85e43b-a440-4444-9676-4ff03ad0d241",
   "metadata": {},
   "source": [
    "<div class=\"alert alert-success\">\n",
    "    <b>Exercise</b>: \n",
    "\n",
    "<br><b><a href=\"https://elearning.unidata.ucar.edu/dataeLearning/MultidimensionalDataStructures\" target=\"blank\">Multidimenstional Data Structures</a></b>\n",
    "    \n",
    "Complete the above microlesson. We will watch the video together. \n",
    "</div>\n"
   ]
  },
  {
   "cell_type": "markdown",
   "id": "a70447f8-ae42-40da-9c26-2394e35c1ff6",
   "metadata": {},
   "source": [
    "Now let's try examining a local NetCDF File like the one we saw in the lesson. \n",
    "\n",
    "While <code>pandas</code> is a great package for examining tabular data, it is insufficient for multidimensional or array-based data.\n",
    "\n",
    "To examine these types of data we use a different package, <code>xarray</code>, with the abbreviated name <code>xr</code>."
   ]
  },
  {
   "cell_type": "code",
   "execution_count": null,
   "id": "332b0fec-e159-4fcf-a0a2-66755177205a",
   "metadata": {},
   "outputs": [],
   "source": [
    "# import required packages \n",
    "import xarray as xr"
   ]
  },
  {
   "cell_type": "code",
   "execution_count": null,
   "id": "4d3146fb-c9b5-4905-80c4-ae6eea4233df",
   "metadata": {},
   "outputs": [],
   "source": [
    "# open the file with xarray open_dataset\n",
    "nc = '../../data/irma_gfs_example.nc'\n",
    "data = xr.open_dataset(nc)\n",
    "\n",
    "# View a summary of the Dataset\n",
    "data"
   ]
  },
  {
   "cell_type": "markdown",
   "id": "a2570774-6a22-4db4-980c-66496d3ebc45",
   "metadata": {},
   "source": [
    "<div class=\"alert alert-success\">\n",
    "    <b>Discussion</b>: \n",
    "\n",
    "Of the must-have information for EDA, what information can we gather from just this preview?\n",
    "</div>\n"
   ]
  },
  {
   "cell_type": "markdown",
   "id": "d6223106-a4d0-4249-a073-2b3145b7a883",
   "metadata": {},
   "source": [
    "#### CF (Climate and Forecast) Conventions\n",
    "\n",
    "Notice that we have info in the global metadata called Conventions. While not crucial to us right now, these will be important for future analyses you do, so let’s briefly discuss. \n",
    "\n",
    "Consider the following, you are working with several datasets from various sources and comparing variables in one region to another. Imagine comparing temperatures from three different datasets, but the labels for temperature are different. One is “T”, one is “temp”, and one is “temperature”. Additionally, two of the datasets record temperature in K and one records temperature in C. Reproducing results on these datasets would be cumbersome because you would have to keep changing variable names, units, and potentially other attributes. \n",
    "\n",
    "From the <a href=\"http://cfconventions.org/\" target=\"blank\">CF website</a>:\n",
    ">“The Climate and Forecast metadata conventions (CF) are a community-developed standard designed to promote the processing and sharing of climate and forecast model and observational output data, and derived data products. The conventions define metadata that provide a definitive description of what the data in each variable represents, and the spatial and temporal properties of the data. This enables users of data from different sources to decide which quantities are comparable, and facilitates building applications with powerful extraction, regridding, and display capabilities. The CF convention includes a standard name table, which defines strings that identify physical quantities.”"
   ]
  },
  {
   "cell_type": "markdown",
   "id": "9f80ddd8-689c-40bd-b214-7a6c8b3676d2",
   "metadata": {},
   "source": [
    "Continuing where we left off, we will now explore the potential of missing data in this dataset. To do this, we'll begin by isolating a single variable for interrogation, temperature (on isobaric surfaces)."
   ]
  },
  {
   "cell_type": "code",
   "execution_count": null,
   "id": "b91e60af-6a81-45f3-ab1f-5fd144ee268f",
   "metadata": {},
   "outputs": [],
   "source": [
    "# isolate temperature in its own variable\n",
    "# Note the syntax dataFrame['variable']\n",
    "temperature = data['Temperature_isobaric']\n",
    "\n",
    "# display preview\n",
    "temperature"
   ]
  },
  {
   "cell_type": "markdown",
   "id": "9aa99dd6-c920-4ecc-b9c2-a1373986fbb6",
   "metadata": {},
   "source": [
    "No new info yet… But notice how temperature is a DataArray as opposed to a DataSet. A DataSet is composed of DataArrays. \n",
    "\n",
    "In pandas, a DataFrame contains multiple Series (columns)\n",
    "\n",
    "In xarray, a DataSet contains multiple DataArrays (arrays)\n",
    "\n",
    "Continuing on, we can use the `is_null()` method to pick out any missing values in the DataArray. "
   ]
  },
  {
   "cell_type": "code",
   "execution_count": null,
   "id": "08d4d1bf-2848-4953-a518-0c5288d376e3",
   "metadata": {},
   "outputs": [],
   "source": [
    "# find nulls in temperature\n",
    "temperature.isnull()"
   ]
  },
  {
   "cell_type": "code",
   "execution_count": null,
   "id": "e1eccde5-1c6c-402e-b272-463255d64f6c",
   "metadata": {},
   "outputs": [],
   "source": [
    "# try to sum the True null values\n",
    "temperature.isnull().sum()"
   ]
  },
  {
   "cell_type": "markdown",
   "id": "e0fe0b48-c999-4a5f-8c12-d892b9a18445",
   "metadata": {},
   "source": [
    "Looks like no null values, but let's check the ranges of all values in the array to see if anything looks off. We can leverage the built-in `.plot.hist()` method in xarray to do this. "
   ]
  },
  {
   "cell_type": "code",
   "execution_count": null,
   "id": "1016202c-6c32-40bb-954d-7b60689cf4f2",
   "metadata": {},
   "outputs": [],
   "source": [
    "xr.plot.hist(temperature)"
   ]
  },
  {
   "cell_type": "markdown",
   "id": "672bc3e6-c710-44f9-969c-37919a915133",
   "metadata": {},
   "source": [
    "Seems reasonable, what about another variable? We can string together both the selection of the DataArray and the plot together in one line, as below. "
   ]
  },
  {
   "cell_type": "code",
   "execution_count": null,
   "id": "910f2d38-0edd-4671-ad82-38ddd61dfbed",
   "metadata": {},
   "outputs": [],
   "source": [
    "# Preview a histogram of Relative Humidity\n",
    "xr.plot.hist(data['Relative_humidity_isobaric'])"
   ]
  },
  {
   "cell_type": "markdown",
   "id": "b2b02e84-2cf1-49f3-9f11-3d24992a7dd3",
   "metadata": {},
   "source": [
    "Do these values look reasonable for relative humidity to you? What could possibly explain the skewed values towards 0%?\n",
    "\n",
    "In these histograms, every value from every dimension gets dumped into the same pool and divided into buckets. \n",
    "\n",
    "What if we want to look for specific features in the data? In that case, we need to reduce our dimensionality from 4 (x, y, z, and t) to just 2 (x and y) for a 2D plot. \n",
    "\n",
    "xarray has many indexing tools that make these selections possible. Let's take a closer look at the `.sel()` method. We will use this method using the format:\n",
    "\n",
    "`DataArray.sel(dimension = 'value')`\n",
    "\n",
    "Let's first choose a single vertical level. We should start by examining which levels are available. "
   ]
  },
  {
   "cell_type": "code",
   "execution_count": null,
   "id": "f71cddde-f593-4c0b-b57c-08e91b0a6b4c",
   "metadata": {},
   "outputs": [],
   "source": [
    "# look at available values in the isobaric3 coordinate\n",
    "temperature['isobaric3']"
   ]
  },
  {
   "cell_type": "markdown",
   "id": "697e0932-a6aa-4023-b015-9bf5bd306b99",
   "metadata": {},
   "source": [
    "Then we choose one level and enter it into our selection. "
   ]
  },
  {
   "cell_type": "code",
   "execution_count": null,
   "id": "6edd7231-7509-46b4-a004-b183b18899fb",
   "metadata": {},
   "outputs": [],
   "source": [
    "# Note the syntax DataArray.sel(dimension='value')\n",
    "temperature_selection = temperature.sel(isobaric3 = 50000)\n",
    "temperature_selection"
   ]
  },
  {
   "cell_type": "markdown",
   "id": "818e58b5-ac1d-4e13-b7af-c2014111a5af",
   "metadata": {},
   "source": [
    "Now our temperature selection is a data array with dimensionality reduced to 3 (x, y, t)\n",
    "\n",
    "On our quest for a 2D array, we next will choose a single time to select. \n",
    "\n",
    "From the above xarray HTML preview, we can preview the times available for the data and see that we have data available from 5 Sept 2017 at 12Z to 6 Sept 2017 at 9Z every 6 hours. We can select a specific time from this list, or we can practice using the `method` parameter to choose a time that's nearest to a time that may not exist within the coordinate. \n",
    "\n",
    "We can also use multiple selections in a single line, so let's rewrite our selection to include both time and isobaric level."
   ]
  },
  {
   "cell_type": "code",
   "execution_count": null,
   "id": "5d7f70a6-1ef8-4ecf-9f96-f2137fe4dfb9",
   "metadata": {},
   "outputs": [],
   "source": [
    "# apply two selections in one operation\n",
    "temperature_selection = temperature.sel(isobaric3=50000, time1='2017-09-06T02', method='nearest')\n",
    "temperature_selection"
   ]
  },
  {
   "cell_type": "markdown",
   "id": "53f48a4f-0a7e-4502-8cc6-6af6a6d51a0d",
   "metadata": {},
   "source": [
    "With our dimensionality now reduced to 2 (x, y), we can plot the array and look at features within the data!\n",
    "\n",
    "For quick and simple plots like the ones we use in an EDA, we can use the built-in plotting tools to xarray, the `.plot()` method. "
   ]
  },
  {
   "cell_type": "code",
   "execution_count": null,
   "id": "f9a5484b-d363-4a01-9aa5-5642f0731472",
   "metadata": {},
   "outputs": [],
   "source": [
    "temperature_selection.plot()"
   ]
  },
  {
   "cell_type": "markdown",
   "id": "5c44f85d-92b9-4edb-b1f4-88d4986e8ab9",
   "metadata": {},
   "source": [
    "With these selection tools, we can quickly string together code to view samples of our data on 2D planes. But be careful of dimension names!"
   ]
  },
  {
   "cell_type": "code",
   "execution_count": null,
   "id": "61738bc7-26f0-4b7e-a310-3f5c653842d2",
   "metadata": {},
   "outputs": [],
   "source": [
    "rh_selection = data['Relative_humidity_isobaric'].sel(time1='2017-09-05T12',isobaric3='75000')\n",
    "rh_selection.plot()"
   ]
  },
  {
   "cell_type": "code",
   "execution_count": null,
   "id": "225476d9-deb0-471e-abbd-3b77a4671a8a",
   "metadata": {},
   "outputs": [],
   "source": [
    "w_selection = data['Vertical_velocity_pressure_isobaric'].sel(time1='2017-09-06T12',isobaric1='100000')\n",
    "w_selection.plot()"
   ]
  },
  {
   "cell_type": "markdown",
   "id": "2d734695-2f6d-473d-8485-9d09d6b9e6b1",
   "metadata": {},
   "source": [
    "<div class=\"alert alert-success\">\n",
    "    <b>Exercise</b>: \n",
    "\n",
    "Scavenger hunt challenge!\n",
    "    \n",
    "<b>Goal:</b>\n",
    "\n",
    "When the timer starts, open the CMIPC.nc file in this notebook and find the following information    \n",
    "    \n",
    "- Source (sensor/model/instrument)\n",
    "- Spatial region or extent\n",
    "- Valid day(s)/time(s) or forecast times\n",
    "- Available dimensions and their respective lengths\n",
    "- Variables and their units\n",
    "\n",
    "</div>"
   ]
  },
  {
   "cell_type": "markdown",
   "id": "45c49ffc-7f63-4af5-99dc-e8dff0dee896",
   "metadata": {},
   "source": [
    "<a name=\"proj\"></a>\n",
    "## Introduction to the Day 2 Project"
   ]
  },
  {
   "cell_type": "markdown",
   "id": "6b19f3df-f6c2-48bc-a3ce-cc8d872f9448",
   "metadata": {},
   "source": [
    "Today you worked a lot with data that was provided for you, and now it's your opportunity to explore data of your choosing. \n",
    "\n",
    "Recall the purpose of exploratory data analysis: to examine the appropriateness of data for a specific task or research question. \n",
    "\n",
    "Before the next class period, you are asked to do the following:\n",
    "- <b>Choose any research question you are interested in </b>\n",
    "    - This may or may not be related to your current work. Follow your curiosity!\n",
    "- <b>Find data that may support your research question</b>\n",
    "    - It’s okay if you're not certain the data will be appropriate!\n",
    "    - Choose at least one file/resource to examine in Python\n",
    "    - Any data source, you don’t need to know how to read it yet.  \n",
    "    - Any file type\n",
    "- <b>Review the Remote Data Access lesson below</b>\n",
    "    - Watch the short video below, then try accessing a remote dataset following the demo in the video\n",
    "    - You may try the Unidata's THREDDS Data Server: https://thredds.ucar.edu/thredds/catalog/catalog.html\n",
    "    - Or NCEI's THREDDS Data Server: https://www.ncei.noaa.gov/thredds/catalog.html\n",
    "    - Or any other THREDDS Data Server you can find\n",
    "\n",
    "You will have time in the next session to complete an EDA on your data of choice. "
   ]
  },
  {
   "cell_type": "markdown",
   "id": "285d6581-9e6b-4bba-832c-7afa8cee9e38",
   "metadata": {},
   "source": [
    "#### Remote Data Access Lesson"
   ]
  },
  {
   "cell_type": "markdown",
   "id": "f044ee89-2f47-4ee5-8f20-c0a9080bbd77",
   "metadata": {},
   "source": [
    "<video width=\"600\" src=\"https://elearning.unidata.ucar.edu/metpy/QuantitativeAnalysisILT/SiphonTDS/IntroSiphonTDS.mp4\"  \n",
    "       controls>\n",
    "</video>\n",
    "\n",
    "<a href=\"https://elearning.unidata.ucar.edu/metpy/QuantitativeAnalysisILT/SiphonTDS/IntroSiphonTDS.mp4\" target=\"blank\">Video source</a>"
   ]
  },
  {
   "cell_type": "code",
   "execution_count": null,
   "id": "d92ea6c6-57b6-4536-b2ac-ece97e689c5c",
   "metadata": {},
   "outputs": [],
   "source": [
    "# Practice your code here"
   ]
  }
 ],
 "metadata": {
  "kernelspec": {
   "display_name": "Python [conda env:python-readiness]",
   "language": "python",
   "name": "conda-env-python-readiness-py"
  },
  "language_info": {
   "codemirror_mode": {
    "name": "ipython",
    "version": 3
   },
   "file_extension": ".py",
   "mimetype": "text/x-python",
   "name": "python",
   "nbconvert_exporter": "python",
   "pygments_lexer": "ipython3",
   "version": "3.11.5"
  }
 },
 "nbformat": 4,
 "nbformat_minor": 5
}
